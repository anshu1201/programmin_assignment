{
 "cells": [
  {
   "cell_type": "code",
   "execution_count": 9,
   "metadata": {},
   "outputs": [
    {
     "name": "stdout",
     "output_type": "stream",
     "text": [
      "enter a no. 6\n",
      "0 1 1 2 3 5 8 "
     ]
    }
   ],
   "source": [
    "#Program to Display Fibonacci Sequence Using Recursion\n",
    "def fibo(n):\n",
    "    if n == 0:\n",
    "        return 0\n",
    "    elif n == 1:\n",
    "        return 1\n",
    "    else:\n",
    "        return(fibo(n-1)+fibo(n-2))\n",
    "    \n",
    "\n",
    "num = int(input(\"enter a no. \"))\n",
    "for  i in range(0,num+1):\n",
    "    print(fibo(i),end=\" \")"
   ]
  },
  {
   "cell_type": "code",
   "execution_count": 6,
   "metadata": {},
   "outputs": [
    {
     "name": "stdout",
     "output_type": "stream",
     "text": [
      "enter a number 8\n",
      "the factorial of number is  40320\n"
     ]
    }
   ],
   "source": [
    "#Program to Find Factorial of Number Using Recursion\n",
    "def fact(n):\n",
    "    if  n == 1:\n",
    "        return 1\n",
    "    else:\n",
    "        return(n*fact(n-1))\n",
    "    \n",
    "num = int(input(\"enter a number \"))\n",
    "print(\"the factorial of number is \",fact(num))"
   ]
  },
  {
   "cell_type": "code",
   "execution_count": 12,
   "metadata": {},
   "outputs": [
    {
     "name": "stdout",
     "output_type": "stream",
     "text": [
      "enter weight in kg 39\n",
      "enter height in cm 156\n",
      "BMI is  16.025641025641026\n"
     ]
    }
   ],
   "source": [
    "#Program to calculate your Body Mass Index\n",
    "def bmi(weight,height):\n",
    "    return (weight/((height/100)**2))\n",
    "we = float(input(\"enter weight in kg \"))\n",
    "he = float(input(\"enter height in cm \"))\n",
    "print(\"BMI is \", bmi(we,he))"
   ]
  },
  {
   "cell_type": "code",
   "execution_count": 14,
   "metadata": {},
   "outputs": [
    {
     "name": "stdout",
     "output_type": "stream",
     "text": [
      "enter a no. to find natural logarithm2\n",
      "the natural logarithm of 2 is 0.6931471805599453\n"
     ]
    }
   ],
   "source": [
    "#Program to calculate the natural logarithm of any number\n",
    "import math\n",
    "n = int(input(\"enter a no. to find natural logarithm\"))\n",
    "print(\"the natural logarithm of {0} is {1}\".format(n,math.log(n)))"
   ]
  },
  {
   "cell_type": "code",
   "execution_count": 16,
   "metadata": {},
   "outputs": [
    {
     "name": "stdout",
     "output_type": "stream",
     "text": [
      "enter no.4\n",
      "cube sum of first 4 natural numbers is 100\n"
     ]
    }
   ],
   "source": [
    "#Program for cube sum of first n natural numbers\n",
    "n = int(input(\"enter no.\"))\n",
    "s = 0\n",
    "for i in range(1,n+1):\n",
    "    s = s + i**3\n",
    "print(\"cube sum of first {} natural numbers is {}\".format(n,s))"
   ]
  }
 ],
 "metadata": {
  "kernelspec": {
   "display_name": "Python 3",
   "language": "python",
   "name": "python3"
  },
  "language_info": {
   "codemirror_mode": {
    "name": "ipython",
    "version": 3
   },
   "file_extension": ".py",
   "mimetype": "text/x-python",
   "name": "python",
   "nbconvert_exporter": "python",
   "pygments_lexer": "ipython3",
   "version": "3.7.6"
  }
 },
 "nbformat": 4,
 "nbformat_minor": 4
}
