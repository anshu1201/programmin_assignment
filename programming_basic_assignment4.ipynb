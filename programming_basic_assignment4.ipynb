{
 "cells": [
  {
   "cell_type": "code",
   "execution_count": null,
   "metadata": {},
   "outputs": [],
   "source": [
    "#Program to Find the Factorial of a Number\n",
    "def fact(n):\n",
    "    f = 1\n",
    "    for i in range(n,1,-1):\n",
    "        f = f*i\n",
    "    return f\n",
    "\n",
    "n = int(input(\"enter a no. \"))\n",
    "print(\"the factorial of no. is \",fact(n))\n",
    "    \n",
    "        "
   ]
  },
  {
   "cell_type": "code",
   "execution_count": null,
   "metadata": {},
   "outputs": [],
   "source": [
    "#Program to Display the multiplication Table\n",
    "n = int(input(\"enter a no.\"))\n",
    "for i in range(1,11):\n",
    "    print(\"{0} * {1} = {2}\".format(n,i,(n*i)))"
   ]
  },
  {
   "cell_type": "code",
   "execution_count": null,
   "metadata": {},
   "outputs": [],
   "source": [
    "#Program to Print the Fibonacci sequence\n",
    "n = int(input(\"enter a limit\"))\n",
    "a = 0\n",
    "b = 1\n",
    "print(a,b,end=\" \")\n",
    "for i in range(2,n):\n",
    "    c = a+b\n",
    "    a = b\n",
    "    b = c\n",
    "    print(c,end=\" \")"
   ]
  },
  {
   "cell_type": "code",
   "execution_count": null,
   "metadata": {},
   "outputs": [],
   "source": [
    "#Program to Check Armstrong Number\n",
    "n = int(input(\"enter a no. \"))\n",
    "num = n\n",
    "rem = 0\n",
    "s = 0\n",
    "while num > 0:\n",
    "    rem = num % 10\n",
    "    s = s + (rem*rem*rem)\n",
    "    num = num // 10\n",
    "if s == n:\n",
    "    print(\"no. is armstrong\")\n",
    "else:\n",
    "    print(\"no. is not armstrong\")\n",
    "    \n"
   ]
  },
  {
   "cell_type": "code",
   "execution_count": 3,
   "metadata": {},
   "outputs": [
    {
     "name": "stdout",
     "output_type": "stream",
     "text": [
      "enter a first limit 100\n",
      "enter a second limit 500\n",
      "153 370 371 407 "
     ]
    }
   ],
   "source": [
    "#Program to Find Armstrong Number in an Interval\n",
    "n1 = int(input(\"enter a first limit \"))\n",
    "n2 = int(input(\"enter a second limit \"))\n",
    "for i in range(n1,n2+1):\n",
    "    num = i\n",
    "    s = 0\n",
    "    rem = 0\n",
    "    while num > 0:\n",
    "        rem = num % 10\n",
    "        s = s + (rem*rem*rem)\n",
    "        num = num // 10\n",
    "    if s == i:\n",
    "        print(i,end = \" \")\n",
    "    \n",
    "    \n",
    "    "
   ]
  },
  {
   "cell_type": "code",
   "execution_count": 4,
   "metadata": {},
   "outputs": [
    {
     "name": "stdout",
     "output_type": "stream",
     "text": [
      "enter last no.5\n",
      "sum of natural no. is  15\n"
     ]
    }
   ],
   "source": [
    "#Program to Find the Sum of Natural Numbers\n",
    "n = int(input(\"enter last no.\"))\n",
    "s = 0\n",
    "for i in range(1,n+1):\n",
    "    s = s+i\n",
    "print(\"sum of natural no. is \",s)"
   ]
  },
  {
   "cell_type": "code",
   "execution_count": null,
   "metadata": {},
   "outputs": [],
   "source": []
  }
 ],
 "metadata": {
  "kernelspec": {
   "display_name": "Python 3",
   "language": "python",
   "name": "python3"
  },
  "language_info": {
   "codemirror_mode": {
    "name": "ipython",
    "version": 3
   },
   "file_extension": ".py",
   "mimetype": "text/x-python",
   "name": "python",
   "nbconvert_exporter": "python",
   "pygments_lexer": "ipython3",
   "version": "3.7.6"
  }
 },
 "nbformat": 4,
 "nbformat_minor": 4
}
