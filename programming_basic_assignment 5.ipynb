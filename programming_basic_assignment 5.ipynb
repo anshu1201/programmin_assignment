{
 "cells": [
  {
   "cell_type": "code",
   "execution_count": 1,
   "metadata": {},
   "outputs": [
    {
     "name": "stdout",
     "output_type": "stream",
     "text": [
      "enter first no.2\n",
      "enter second no.3\n",
      "the lcm is  6\n"
     ]
    }
   ],
   "source": [
    "#Program to Find LCM\n",
    "def lcm(a,b):\n",
    "    if a>b:\n",
    "        greater = a\n",
    "    else:\n",
    "        greater = b\n",
    "    while True:\n",
    "        if (greater % a == 0) and (greater % b == 0):\n",
    "            ans = greater\n",
    "            break\n",
    "        greater = greater+1\n",
    "    return ans\n",
    "\n",
    "x = int(input(\"enter first no.\"))\n",
    "y = int(input(\"enter second no.\"))\n",
    "print(\"the lcm is \", lcm(x,y))\n",
    "            "
   ]
  },
  {
   "cell_type": "code",
   "execution_count": 4,
   "metadata": {},
   "outputs": [
    {
     "name": "stdout",
     "output_type": "stream",
     "text": [
      "enter first no.54\n",
      "enter second no.24\n",
      "the hcf is  6\n"
     ]
    }
   ],
   "source": [
    "# program to find hcf\n",
    "def hcf(a,b):\n",
    "    if a<b:\n",
    "        smaller = a\n",
    "    else:\n",
    "        smaller = b\n",
    "    for i in range(1,smaller+1):\n",
    "        if (x % i == 0) and (y % i == 0):\n",
    "            hcf = i\n",
    "    return hcf\n",
    "    \n",
    "\n",
    "x = int(input(\"enter first no.\"))\n",
    "y = int(input(\"enter second no.\"))\n",
    "print(\"the hcf is \", hcf(x,y))\n",
    "            \n",
    "        "
   ]
  },
  {
   "cell_type": "code",
   "execution_count": 6,
   "metadata": {},
   "outputs": [
    {
     "name": "stdout",
     "output_type": "stream",
     "text": [
      "enter a no. in decimal10\n",
      "the no. 10 in binary is 0b1010 in octal is 0o12 in hexadecimal is 0xa\n"
     ]
    }
   ],
   "source": [
    "#Program to Convert Decimal to Binary, Octal and Hexadecimal\n",
    "n = int(input(\"enter a no. in decimal\"))\n",
    "bi = bin(n)\n",
    "oc = oct(n)\n",
    "he = hex(n)\n",
    "print(\"the no. {0} in binary is {1} in octal is {2} in hexadecimal is {3}\".format(n,bi,oc,he))"
   ]
  },
  {
   "cell_type": "code",
   "execution_count": 10,
   "metadata": {},
   "outputs": [
    {
     "name": "stdout",
     "output_type": "stream",
     "text": [
      "enter a character a\n",
      "the ascii value of character is  97\n"
     ]
    }
   ],
   "source": [
    "#Program To Find ASCII value of a character\n",
    "n = input(\"enter a character \")\n",
    "asc = ord(n)\n",
    "print(\"the ascii value of character is \",asc)"
   ]
  },
  {
   "cell_type": "code",
   "execution_count": 13,
   "metadata": {},
   "outputs": [
    {
     "name": "stdout",
     "output_type": "stream",
     "text": [
      "enter a no.67\n",
      "enter a no.88\n",
      "select any no. from 1 to 4 \n",
      "         1. for addition \n",
      "         2. for subtraction \n",
      "         3. for multiplication \n",
      "         4. for division \n",
      " \n",
      "enter a no. between 1 to 4 3\n",
      "the multiplication is  5896\n"
     ]
    }
   ],
   "source": [
    "#Program to Make a Simple Calculator with 4 basic mathematical operations\n",
    "def add(a,b):\n",
    "    return a+b\n",
    "def sub(a,b):\n",
    "    return a-b\n",
    "def mul(a,b):\n",
    "    return a*b\n",
    "def div(a,b):\n",
    "    return a/b\n",
    "\n",
    "\n",
    "x = int(input('enter a no.'))\n",
    "y = int(input(\"enter a no.\")) \n",
    "\n",
    "print(\"select any no. from 1 to 4 \\n \\\n",
    "        1. for addition \\n \\\n",
    "        2. for subtraction \\n \\\n",
    "        3. for multiplication \\n \\\n",
    "        4. for division \\n \")\n",
    "\n",
    "\n",
    "n = int(input('enter a no. between 1 to 4 '))\n",
    "\n",
    "\n",
    "\n",
    "if n == 1:\n",
    "    print(\"the addition is \",add(x,y))\n",
    "elif n == 2:\n",
    "    print(\"the subtraction is \",sub(x,y))\n",
    "elif n == 3:\n",
    "    print(\"the multiplication is \",mul(x,y))\n",
    "elif n == 4:\n",
    "    print(\"the division is \",div(x,y))"
   ]
  },
  {
   "cell_type": "code",
   "execution_count": null,
   "metadata": {},
   "outputs": [],
   "source": []
  }
 ],
 "metadata": {
  "kernelspec": {
   "display_name": "Python 3",
   "language": "python",
   "name": "python3"
  },
  "language_info": {
   "codemirror_mode": {
    "name": "ipython",
    "version": 3
   },
   "file_extension": ".py",
   "mimetype": "text/x-python",
   "name": "python",
   "nbconvert_exporter": "python",
   "pygments_lexer": "ipython3",
   "version": "3.7.6"
  }
 },
 "nbformat": 4,
 "nbformat_minor": 4
}
