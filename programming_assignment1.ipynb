{
 "cells": [
  {
   "cell_type": "code",
   "execution_count": 1,
   "metadata": {},
   "outputs": [
    {
     "name": "stdout",
     "output_type": "stream",
     "text": [
      "Hello Python\n"
     ]
    }
   ],
   "source": [
    "#program to print Hello python\n",
    "print(\"Hello Python\")"
   ]
  },
  {
   "cell_type": "code",
   "execution_count": 2,
   "metadata": {},
   "outputs": [
    {
     "name": "stdout",
     "output_type": "stream",
     "text": [
      "enter a no.5\n",
      "enter a second no.6\n",
      "addition is =  11\n",
      "division is =  0.8333333333333334\n"
     ]
    }
   ],
   "source": [
    "#program to do arithmetical operations\n",
    "a = int(input(\"enter a no.\"))\n",
    "b = int(input(\"enter a second no.\"))\n",
    "print(\"addition is = \",a+b)\n",
    "print(\"division is = \",a/b)"
   ]
  },
  {
   "cell_type": "code",
   "execution_count": 4,
   "metadata": {},
   "outputs": [
    {
     "name": "stdout",
     "output_type": "stream",
     "text": [
      "enter base 10\n",
      "enter height 10\n",
      "area of triangle is =  50.0\n"
     ]
    }
   ],
   "source": [
    "#program to find area of triangle\n",
    "base = int(input(\"enter base \"))\n",
    "height = int(input(\"enter height \"))\n",
    "print(\"area of triangle is = \",1/2*base*height)"
   ]
  },
  {
   "cell_type": "code",
   "execution_count": 8,
   "metadata": {},
   "outputs": [
    {
     "name": "stdout",
     "output_type": "stream",
     "text": [
      "enter a no. a= 6\n",
      "enter a 2 no. b= 7\n",
      "no. before swap a= 6 b= 7\n",
      "no. after swap a= 7 b= 6\n"
     ]
    }
   ],
   "source": [
    "#program to swap two variable\n",
    "a = int(input(\"enter a no. a= \"))\n",
    "b = int(input(\"enter a 2 no. b= \"))\n",
    "print(\"no. before swap a= {0} b= {1}\".format(a,b))\n",
    "a,b=b,a\n",
    "print(\"no. after swap a= {0} b= {1}\".format(a,b))"
   ]
  },
  {
   "cell_type": "code",
   "execution_count": 13,
   "metadata": {},
   "outputs": [
    {
     "name": "stdout",
     "output_type": "stream",
     "text": [
      "2\n"
     ]
    }
   ],
   "source": [
    "#program to generate random no.\n",
    "import random\n",
    "print(random.randint(0,9))"
   ]
  }
 ],
 "metadata": {
  "kernelspec": {
   "display_name": "Python 3",
   "language": "python",
   "name": "python3"
  },
  "language_info": {
   "codemirror_mode": {
    "name": "ipython",
    "version": 3
   },
   "file_extension": ".py",
   "mimetype": "text/x-python",
   "name": "python",
   "nbconvert_exporter": "python",
   "pygments_lexer": "ipython3",
   "version": "3.7.6"
  }
 },
 "nbformat": 4,
 "nbformat_minor": 4
}
